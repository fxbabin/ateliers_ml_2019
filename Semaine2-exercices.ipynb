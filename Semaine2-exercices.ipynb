{
 "cells": [
  {
   "cell_type": "markdown",
   "metadata": {
    "colab_type": "text",
    "id": "VtKbMFO0-nbN"
   },
   "source": [
    "# Régression linéaire à une variable - Exercices tirés du MOOC d'Andrew Ng"
   ]
  },
  {
   "cell_type": "markdown",
   "metadata": {
    "colab_type": "text",
    "id": "Y9AuDQ32-nbY"
   },
   "source": [
    "## Chargement des données"
   ]
  },
  {
   "cell_type": "markdown",
   "metadata": {
    "colab_type": "text",
    "id": "Z741dp3_-nbe"
   },
   "source": [
    "### Charger les données du fichier ex1data1.csv"
   ]
  },
  {
   "cell_type": "code",
   "execution_count": null,
   "metadata": {
    "colab": {},
    "colab_type": "code",
    "id": "z8c1mzO2-nbo"
   },
   "outputs": [],
   "source": [
    "import numpy as np\n",
    "import pandas as pd\n",
    "%matplotlib inline"
   ]
  },
  {
   "cell_type": "code",
   "execution_count": null,
   "metadata": {
    "colab": {},
    "colab_type": "code",
    "id": "m1Z2S5uJ-nb4"
   },
   "outputs": [],
   "source": [
    "data = pd.read_csv(\"ex1data1.csv\")"
   ]
  },
  {
   "cell_type": "markdown",
   "metadata": {
    "colab_type": "text",
    "id": "1cyRCItR-ncH"
   },
   "source": [
    "### Visualiser les données"
   ]
  },
  {
   "cell_type": "code",
   "execution_count": null,
   "metadata": {
    "colab": {},
    "colab_type": "code",
    "id": "CKf63e13-ncK"
   },
   "outputs": [],
   "source": [
    "data.plot.scatter('population', 'profit')"
   ]
  },
  {
   "cell_type": "markdown",
   "metadata": {
    "colab_type": "text",
    "id": "dSFCW8_2-ncV"
   },
   "source": [
    "### Découpez vos données en deux vecteurs X et y et transformerz-les en array numpy"
   ]
  },
  {
   "cell_type": "markdown",
   "metadata": {
    "colab_type": "text",
    "id": "4BkcMlIM-ncY"
   },
   "source": [
    "Note: Les colonnes d'un Dataframe peuvent être sélectionnées par leur nom, de la même manière que dans un dictionnaire"
   ]
  },
  {
   "cell_type": "code",
   "execution_count": null,
   "metadata": {
    "colab": {},
    "colab_type": "code",
    "id": "KcsC8WcO-ncc"
   },
   "outputs": [],
   "source": [
    "X = np.array(data['population'])\n",
    "y = np.array(data['profit'])"
   ]
  },
  {
   "cell_type": "markdown",
   "metadata": {
    "colab_type": "text",
    "id": "uCjzAGfP-ndC"
   },
   "source": [
    "## Calcul d'une première prédiction"
   ]
  },
  {
   "cell_type": "markdown",
   "metadata": {
    "colab_type": "text",
    "id": "ybfHHtMG-ndJ"
   },
   "source": [
    "### Initialisez theta en un vecteur de deux valeurs à zéro"
   ]
  },
  {
   "cell_type": "code",
   "execution_count": null,
   "metadata": {
    "colab": {},
    "colab_type": "code",
    "id": "mJ2vY1m4-ndO"
   },
   "outputs": [],
   "source": [
    "theta = np.zeros(2)"
   ]
  },
  {
   "cell_type": "markdown",
   "metadata": {
    "colab_type": "text",
    "id": "_WgZ-_MO-ndf"
   },
   "source": [
    "### Écrivez une fonction _predict_ qui prend en argument une population (x) ainsi que les parametres theta et prédit le profit (y) associé"
   ]
  },
  {
   "cell_type": "code",
   "execution_count": null,
   "metadata": {
    "colab": {},
    "colab_type": "code",
    "id": "fFh-zDJH-ndk"
   },
   "outputs": [],
   "source": [
    "def predict(X, theta):\n",
    "    return (X * theta[1] + theta[0])"
   ]
  },
  {
   "cell_type": "markdown",
   "metadata": {
    "colab_type": "text",
    "id": "kt1P7vn--ndw"
   },
   "source": [
    "### Écrivez une fonction _fit_ qui prend en arguments le vecteur X et le vecteur y des données d'entraînement et renvoie le vecteur de paramètres _theta_ qui a été appris"
   ]
  },
  {
   "cell_type": "code",
   "execution_count": null,
   "metadata": {
    "colab": {},
    "colab_type": "code",
    "id": "oIxDux36-nd5"
   },
   "outputs": [],
   "source": [
    "def fit(X, y, theta, alpha, num_iters):\n",
    "    # Initialiser certaines variable utiles\n",
    "    m = X.shape[0]\n",
    "    \n",
    "    # Boucler sur le nombre d'itérations\n",
    "    for itr in range(num_iters):\n",
    "        loss = predict(X, theta) - y\n",
    "        tmp_theta0 = theta[0] - (alpha / m) * sum(loss)\n",
    "        tmp_theta1 = theta[1] - (alpha / m) * sum(loss * X.T)\n",
    "        theta = [tmp_theta0, tmp_theta1]\n",
    "        # Effectuer une itération de descente du gradient (i.e. on update theta une fois)\n",
    "    return (theta)"
   ]
  },
  {
   "cell_type": "markdown",
   "metadata": {
    "colab_type": "text",
    "id": "DwrC0nI4-neF"
   },
   "source": [
    "### Lancez l'apprentissage en appelant la fonction _fit_ et en prenant bien soin de récupérer le résultat de *theta* à la fin!! Vous devriez obtenir des valeurs autour de [-3.6303, 1.1664]"
   ]
  },
  {
   "cell_type": "markdown",
   "metadata": {
    "colab_type": "text",
    "id": "VllVlNsu-neJ"
   },
   "source": [
    "Pour commencer, on fixera alpha à 0.01 et num_iters à 1500"
   ]
  },
  {
   "cell_type": "code",
   "execution_count": null,
   "metadata": {
    "colab": {},
    "colab_type": "code",
    "id": "2MaV5EMO-neP"
   },
   "outputs": [],
   "source": [
    "theta = np.zeros(2)\n",
    "finetuned_theta = fit(X, y, theta, 0.01, 1500)"
   ]
  },
  {
   "cell_type": "markdown",
   "metadata": {
    "colab_type": "text",
    "id": "ukqvYNpV-neX"
   },
   "source": [
    "## Visualiser la droite de régression"
   ]
  },
  {
   "cell_type": "markdown",
   "metadata": {
    "colab_type": "text",
    "id": "nR-hGKV1-nea"
   },
   "source": [
    "### Voici une fonction pour visualiser votre droite de régression (cadeau!) Vous pourrez l'appeler plus loin dans l'exercice"
   ]
  },
  {
   "cell_type": "code",
   "execution_count": null,
   "metadata": {
    "colab": {},
    "colab_type": "code",
    "id": "r549bq_A-nec"
   },
   "outputs": [],
   "source": [
    "import matplotlib.pyplot as plt\n",
    "\n",
    "def visualize(theta):\n",
    "    fig = plt.figure()\n",
    "    ax = plt.axes()\n",
    "    ax.set_xlim([4.5,22.5])\n",
    "    ax.set_ylim([-5, 25])\n",
    "    ax.scatter(X, y)\n",
    "    line_x = np.linspace(0,22.5, 20)\n",
    "    line_y = theta[0] + line_x * theta[1]\n",
    "    ax.plot(line_x, line_y)\n",
    "    plt.show()"
   ]
  },
  {
   "cell_type": "markdown",
   "metadata": {
    "colab_type": "text",
    "id": "1LVVbhCe-nev"
   },
   "source": [
    "### Appelez la fonction pour visualiser la droite avec différentes valeurs de theta"
   ]
  },
  {
   "cell_type": "code",
   "execution_count": null,
   "metadata": {
    "colab": {},
    "colab_type": "code",
    "id": "BvSmLk2h-nez"
   },
   "outputs": [],
   "source": [
    "visualize(theta)\n",
    "visualize(finetuned_theta)"
   ]
  },
  {
   "cell_type": "markdown",
   "metadata": {
    "colab_type": "text",
    "id": "VyGAqDu4-ne5"
   },
   "source": [
    "## Fonction de coût"
   ]
  },
  {
   "cell_type": "markdown",
   "metadata": {
    "colab_type": "text",
    "id": "tpJsqsgx-ne7"
   },
   "source": [
    "Maintenant voyons comment resserrer notre analyse de l'algorithme et calculons le coût (ou la perte, ou l'erreur) à chaque itération."
   ]
  },
  {
   "cell_type": "markdown",
   "metadata": {
    "colab_type": "text",
    "id": "1wxB8E6P-nfB"
   },
   "source": [
    "### Définissez la fonction de coût de votre modèle"
   ]
  },
  {
   "cell_type": "code",
   "execution_count": null,
   "metadata": {
    "colab": {},
    "colab_type": "code",
    "id": "E0tvdAqE-nfR"
   },
   "outputs": [],
   "source": [
    "def cost(X, y, theta):\n",
    "    loss = predict(X, theta) - y\n",
    "    cost = (1 / (2 * X.size)) * np.dot(loss, loss.T)\n",
    "    return (cost)"
   ]
  },
  {
   "cell_type": "markdown",
   "metadata": {
    "colab_type": "text",
    "id": "MxAQuaAu-ngz"
   },
   "source": [
    "### Testez-la avec theta = [0,0]   Vous devriez obtenir environ 32.07"
   ]
  },
  {
   "cell_type": "code",
   "execution_count": null,
   "metadata": {
    "colab": {},
    "colab_type": "code",
    "id": "-U27P4lx-ng2"
   },
   "outputs": [],
   "source": [
    "cost(X, y, [0.0,0.0])"
   ]
  },
  {
   "cell_type": "markdown",
   "metadata": {
    "colab_type": "text",
    "id": "Z7Jv8u42-nhN"
   },
   "source": [
    "### Maintenant avec theta = [-1,2]. Vous devriez obtenir environ 54.24"
   ]
  },
  {
   "cell_type": "code",
   "execution_count": null,
   "metadata": {
    "colab": {},
    "colab_type": "code",
    "id": "9DaEcLJ9-nhQ"
   },
   "outputs": [],
   "source": [
    "cost(X, y, [-1,2])"
   ]
  },
  {
   "cell_type": "markdown",
   "metadata": {
    "colab_type": "text",
    "id": "kNQ1iSlD-ni_"
   },
   "source": [
    "### Copiez le code de votre fonction _fit_ et ajoutez-y un appel à la fonction _cost_, à chaque itération. Vous stockerez vos résultats dans une liste nommée J_history, que vous retournerez avec *theta* à la fin de la fonction"
   ]
  },
  {
   "cell_type": "markdown",
   "metadata": {
    "colab_type": "text",
    "id": "VlRSVFHs-njC"
   },
   "source": [
    "Et oui, en Python, une fonction peut retourner plus qu'une variable!!"
   ]
  },
  {
   "cell_type": "code",
   "execution_count": null,
   "metadata": {
    "colab": {},
    "colab_type": "code",
    "id": "mfWYxJgV-njD"
   },
   "outputs": [],
   "source": [
    "def fit_with_cost(X, y, theta, alpha, num_iters):\n",
    "   # À compléter\n",
    "    m = X.shape[0]\n",
    "    J_history = []\n",
    "    # Boucler sur le nombre d'itérations\n",
    "    for itr in range(num_iters):\n",
    "        loss = predict(X, theta) - y\n",
    "        tmp_theta0 = theta[0] - (alpha / m) * sum(loss)\n",
    "        tmp_theta1 = theta[1] - (alpha / m) * sum(loss * X.T)\n",
    "        theta = [tmp_theta0, tmp_theta1]\n",
    "        J_history.append(cost(X, y, theta))\n",
    "        # Effectuer une itération de descente du gradient (i.e. on update theta une fois)\n",
    "    return (theta, J_history)"
   ]
  },
  {
   "cell_type": "markdown",
   "metadata": {
    "colab_type": "text",
    "id": "DofMubfP-nkU"
   },
   "source": [
    "### Appelez la fonction en récupérant les valeurs de theta et J_history"
   ]
  },
  {
   "cell_type": "code",
   "execution_count": null,
   "metadata": {
    "colab": {},
    "colab_type": "code",
    "id": "Flt9gCx3-nkY"
   },
   "outputs": [],
   "source": [
    "# D'abord on réinitialise theta à zéro\n",
    "theta = np.zeros(2)"
   ]
  },
  {
   "cell_type": "code",
   "execution_count": null,
   "metadata": {
    "colab": {},
    "colab_type": "code",
    "id": "Bz6ih0Jj-nkh"
   },
   "outputs": [],
   "source": [
    "# Lancez l'entraînement avec votre nouvelle fonction\n",
    "theta, J_history = fit_with_cost(X, y, theta, 0.01, 10000)"
   ]
  },
  {
   "cell_type": "markdown",
   "metadata": {
    "colab_type": "text",
    "id": "aFXhSqyx-nlI"
   },
   "source": [
    "### On visualise maintenant l'évolution du coût en fonction du nombre d'itérations"
   ]
  },
  {
   "cell_type": "markdown",
   "metadata": {
    "colab_type": "text",
    "id": "J2uZavL0-nmQ"
   },
   "source": [
    "Vous pouvez voir si en modifiant les valeurs d'alpha et de num_iters, le graphique change d'allure"
   ]
  },
  {
   "cell_type": "code",
   "execution_count": null,
   "metadata": {
    "colab": {},
    "colab_type": "code",
    "id": "lNUNtUmP-nmT"
   },
   "outputs": [],
   "source": [
    "fit = plt.figure()\n",
    "ax = plt.axes()\n",
    "ax.plot(J_history)"
   ]
  },
  {
   "cell_type": "markdown",
   "metadata": {
    "colab_type": "text",
    "id": "Q-sSfR1C_OTj"
   },
   "source": [
    "# Exercices Numpy"
   ]
  },
  {
   "cell_type": "markdown",
   "metadata": {},
   "source": [
    " ## La suite d'exercices suivants a pour but de vous faire comprendre le fonctionnement des numpy array et leurs avantages/defaults par rapport aux listes de python."
   ]
  },
  {
   "cell_type": "markdown",
   "metadata": {
    "colab_type": "text",
    "id": "U8-mBDc_AFxx"
   },
   "source": [
    "### Creez une liste A nommée \"list_A\" contenant les éléments (0, 1, 1, 2, 3, 5, 8). A partir de cette liste créez un numpy array nommé \"np_A\""
   ]
  },
  {
   "cell_type": "code",
   "execution_count": null,
   "metadata": {},
   "outputs": [],
   "source": [
    "list_A = [0,1,1,2,3,5,8]\n",
    "np_A = np.array(list_A)"
   ]
  },
  {
   "cell_type": "markdown",
   "metadata": {},
   "source": [
    "### Affichez votre numpy array. Ainsi que : sa forme, sa taille, sa dimension et son type"
   ]
  },
  {
   "cell_type": "code",
   "execution_count": null,
   "metadata": {},
   "outputs": [],
   "source": [
    "print(np_A.shape, np_A.size, np_A.ndim, np_A.dtype)"
   ]
  },
  {
   "cell_type": "markdown",
   "metadata": {},
   "source": [
    "### Ajoutez 2 a chaque element de la liste \"list_A\""
   ]
  },
  {
   "cell_type": "code",
   "execution_count": null,
   "metadata": {},
   "outputs": [],
   "source": [
    "list_A = [(elem + 2) for elem in list_A]\n",
    "list_A"
   ]
  },
  {
   "cell_type": "markdown",
   "metadata": {},
   "source": [
    "### Ajoutez 2 a chaque élément de votre numpy array (votre solution ne doit pas utiliser de boucles)"
   ]
  },
  {
   "cell_type": "code",
   "execution_count": null,
   "metadata": {},
   "outputs": [],
   "source": [
    "np_A = np_A + 2\n",
    "np_A"
   ]
  },
  {
   "cell_type": "markdown",
   "metadata": {},
   "source": [
    "### Calculez la somme de tous les éléments de \"np_A\" (sans utiliser de boucle)"
   ]
  },
  {
   "cell_type": "code",
   "execution_count": null,
   "metadata": {},
   "outputs": [],
   "source": [
    "np_A.sum()"
   ]
  },
  {
   "cell_type": "markdown",
   "metadata": {},
   "source": [
    "### Convertissez les elements de votre numpy array en float"
   ]
  },
  {
   "cell_type": "code",
   "execution_count": null,
   "metadata": {},
   "outputs": [],
   "source": [
    "np_A.astype(float)"
   ]
  },
  {
   "cell_type": "markdown",
   "metadata": {},
   "source": [
    "### Convertissez votre numpy array en une liste python"
   ]
  },
  {
   "cell_type": "code",
   "execution_count": null,
   "metadata": {},
   "outputs": [],
   "source": [
    "np_A.tolist()"
   ]
  },
  {
   "cell_type": "markdown",
   "metadata": {
    "colab_type": "text",
    "id": "Sq2WUIWG_7zF"
   },
   "source": [
    "### Exécutez les trois cellules suivantes pour visualiser les matrices M et N"
   ]
  },
  {
   "cell_type": "code",
   "execution_count": null,
   "metadata": {
    "colab": {},
    "colab_type": "code",
    "id": "bM6p6obT_7zH"
   },
   "outputs": [],
   "source": [
    "M = np.random.randint(10, size=(100,100))\n",
    "N = np.random.randint(10, size=(100,100))"
   ]
  },
  {
   "cell_type": "code",
   "execution_count": null,
   "metadata": {
    "colab": {},
    "colab_type": "code",
    "id": "wxYUf0EA_7zT"
   },
   "outputs": [],
   "source": [
    "M"
   ]
  },
  {
   "cell_type": "code",
   "execution_count": null,
   "metadata": {
    "colab": {},
    "colab_type": "code",
    "id": "915fQVX2_7zd"
   },
   "outputs": [],
   "source": [
    "N"
   ]
  },
  {
   "cell_type": "code",
   "execution_count": null,
   "metadata": {
    "colab": {},
    "colab_type": "code",
    "id": "o46kOEbg_7zi"
   },
   "outputs": [],
   "source": []
  },
  {
   "cell_type": "markdown",
   "metadata": {
    "colab_type": "text",
    "id": "EMTQZ7V2_7zm"
   },
   "source": [
    "### Aditionnez les deux matrices"
   ]
  },
  {
   "cell_type": "code",
   "execution_count": null,
   "metadata": {
    "colab": {},
    "colab_type": "code",
    "id": "QK2oUupg_7zo"
   },
   "outputs": [],
   "source": [
    "M + N"
   ]
  },
  {
   "cell_type": "markdown",
   "metadata": {
    "colab_type": "text",
    "id": "7YbEoLmF_7zs"
   },
   "source": [
    "### Calculez le produit matriciel de M et N. Vérifiez votre opération en calculant les premières cellules à la main"
   ]
  },
  {
   "cell_type": "code",
   "execution_count": null,
   "metadata": {
    "colab": {},
    "colab_type": "code",
    "id": "SWsjMAc1_7zt"
   },
   "outputs": [],
   "source": [
    "np.dot(M, N)"
   ]
  },
  {
   "cell_type": "markdown",
   "metadata": {
    "colab_type": "text",
    "id": "ay846XQZ_7zx"
   },
   "source": [
    "### ** Bonus: Écrivez vous-mêmes une fonction de produit matriciel, avec des boucles imbriquées "
   ]
  },
  {
   "cell_type": "code",
   "execution_count": null,
   "metadata": {
    "colab": {},
    "colab_type": "code",
    "id": "tfYUlDhS_7z0"
   },
   "outputs": [],
   "source": [
    "def product_mat(arr1, arr2):\n",
    "    res = np.zeros(arr1.shape[0] * arr2.shape[1])\n",
    "    arr2 = arr2.T \n",
    "    i = 0\n",
    "    for ar1 in arr1:\n",
    "        for ar2 in arr2:\n",
    "            res[i] = sum(ar1 * ar2)\n",
    "            i += 1\n",
    "    return(res.reshape(arr1.shape[0],arr2.T.shape[1]))\n",
    "\n",
    "%time print(product_mat(M, N.T))\n",
    "%time print(np.dot(M, N.T))"
   ]
  },
  {
   "cell_type": "markdown",
   "metadata": {
    "colab_type": "text",
    "id": "uCq1b-SQ_7z6"
   },
   "source": [
    "### ** Comparez son temps de calcul à la fonction de numpy avec de très grosses matrices en entrée"
   ]
  },
  {
   "cell_type": "code",
   "execution_count": null,
   "metadata": {
    "colab": {},
    "colab_type": "code",
    "id": "IUzAnW7g_7z7"
   },
   "outputs": [],
   "source": []
  },
  {
   "cell_type": "markdown",
   "metadata": {
    "colab": {},
    "colab_type": "code",
    "id": "W8REX2em_YaB"
   },
   "source": [
    "## Aller plus loin avec numpy (optionnal)"
   ]
  },
  {
   "cell_type": "markdown",
   "metadata": {
    "colab": {},
    "colab_type": "code",
    "id": "6ViVuoeH_YnX"
   },
   "source": [
    "### Creez une liste a deux dimension ((1,2,3), (2,1,3), (3,2,1), (1,3,2)) nommée \"list_B\". Convertissez le en numpy array \"np_B\""
   ]
  },
  {
   "cell_type": "code",
   "execution_count": null,
   "metadata": {},
   "outputs": [],
   "source": [
    "list_B = [[1,2,3],[2,1,3],[3,2,1],[1,3,2]]\n",
    "np_B = np.array(list_B)"
   ]
  },
  {
   "cell_type": "markdown",
   "metadata": {
    "colab": {},
    "colab_type": "code",
    "id": "t_qxQPvR_Y2n"
   },
   "source": [
    "### Extrayez les deux premiere lignes et colonnes de \"np_B\". En sortie on obtient ((1,2),(2,1))"
   ]
  },
  {
   "cell_type": "code",
   "execution_count": null,
   "metadata": {},
   "outputs": [],
   "source": [
    "np_B[:2, :2]"
   ]
  },
  {
   "cell_type": "markdown",
   "metadata": {
    "colab": {},
    "colab_type": "code",
    "id": "z7fE4YII_Yug"
   },
   "source": [
    "### Creez un masque qui montre toutes les valeurs egales a 1. "
   ]
  },
  {
   "cell_type": "code",
   "execution_count": null,
   "metadata": {},
   "outputs": [],
   "source": [
    "mask = np_B == 1\n",
    "mask"
   ]
  },
  {
   "cell_type": "markdown",
   "metadata": {},
   "source": [
    "### Pour toutes les valeurs du masque multipliez la valeur par 3"
   ]
  },
  {
   "cell_type": "code",
   "execution_count": null,
   "metadata": {},
   "outputs": [],
   "source": [
    "np_B[mask] *= 3"
   ]
  },
  {
   "cell_type": "markdown",
   "metadata": {},
   "source": [
    "### Creez un nouveau numpy array \"np_C\" avec les valeurs (0, 0, 1, 2, 3, 5, 8) (en 1 dimension)"
   ]
  },
  {
   "cell_type": "code",
   "execution_count": null,
   "metadata": {},
   "outputs": [],
   "source": [
    "np_C = np.array([0, 0, 1, 2, 3, 5, 8])"
   ]
  },
  {
   "cell_type": "markdown",
   "metadata": {},
   "source": [
    "### Trouvez le minimum, maximum et la moyenne du numpy array \"np_C\""
   ]
  },
  {
   "cell_type": "code",
   "execution_count": null,
   "metadata": {},
   "outputs": [],
   "source": [
    "np_C.min(), np_C.max(), np_C.mean()"
   ]
  },
  {
   "cell_type": "markdown",
   "metadata": {},
   "source": [
    "### Creez une fonction qui prend un nombre en parametre et renvoie son carré. Appliquez cette fonction a chaque element de votre numpy array a l'aide de la fonction vectorize "
   ]
  },
  {
   "cell_type": "code",
   "execution_count": null,
   "metadata": {},
   "outputs": [],
   "source": [
    "def square(x):\n",
    "    return(x**2)\n",
    "\n",
    "v_square = np.vectorize(square)\n",
    "v_square(np_C)"
   ]
  },
  {
   "cell_type": "markdown",
   "metadata": {},
   "source": [
    "### Changez la dimension cd \"np_B\" pour qu'elle passe de 4 * 3 a 3 * 4"
   ]
  },
  {
   "cell_type": "code",
   "execution_count": null,
   "metadata": {},
   "outputs": [],
   "source": [
    "np_B.reshape(3, 4)"
   ]
  },
  {
   "cell_type": "markdown",
   "metadata": {},
   "source": [
    "### Changez la dimension de np_B pour passer a un numpy array d'une seule dimension (flatten, ravel)"
   ]
  },
  {
   "cell_type": "code",
   "execution_count": null,
   "metadata": {},
   "outputs": [],
   "source": [
    "np_B.flatten()"
   ]
  },
  {
   "cell_type": "markdown",
   "metadata": {},
   "source": [
    "### Travail sur une image"
   ]
  },
  {
   "cell_type": "code",
   "execution_count": null,
   "metadata": {},
   "outputs": [],
   "source": [
    "#install scikit-image\n",
    "import numpy as np\n",
    "from skimage import io\n",
    "import matplotlib.pyplot as plt\n",
    "%matplotlib inline\n",
    "photo = io.imread(\"cat.jpeg\")\n",
    "plt.imshow(photo)"
   ]
  },
  {
   "cell_type": "markdown",
   "metadata": {},
   "source": [
    "### A l'aide du slicing inversez l'orientation de l'image (le bas est en haut)"
   ]
  },
  {
   "cell_type": "code",
   "execution_count": null,
   "metadata": {},
   "outputs": [],
   "source": [
    "plt.imshow(photo[::-1])"
   ]
  },
  {
   "cell_type": "markdown",
   "metadata": {},
   "source": [
    "### A l'aide du slicing créez un mirroir de l'image d'origine"
   ]
  },
  {
   "cell_type": "code",
   "execution_count": null,
   "metadata": {},
   "outputs": [],
   "source": [
    "plt.imshow(photo[::,  ::-1])"
   ]
  },
  {
   "cell_type": "markdown",
   "metadata": {},
   "source": [
    "### A l'aide de np.where appliquez un masque qui converti les pixels en dessous de 100 en 0 et au dessus en 255"
   ]
  },
  {
   "cell_type": "code",
   "execution_count": null,
   "metadata": {},
   "outputs": [],
   "source": [
    "plt.imshow(np.where(photo < 100, 0, 255))"
   ]
  },
  {
   "cell_type": "markdown",
   "metadata": {},
   "source": [
    "### Transposez l'image"
   ]
  },
  {
   "cell_type": "code",
   "execution_count": null,
   "metadata": {},
   "outputs": [],
   "source": [
    "plt.imshow(photo.transpose(1, 0, 2))"
   ]
  },
  {
   "cell_type": "markdown",
   "metadata": {},
   "source": [
    "Pour ceux souhaitant aller plus loin sur numpy quelques pistes intéressantes qui restent à explorer : les séquences, le sampling avec random choice, uniqs et count"
   ]
  },
  {
   "cell_type": "markdown",
   "metadata": {},
   "source": [
    "## En résumé les numpy array ont les particularités suivantes :\n",
    "- ils supportent des operations vectorizées (opérations sur chaque élements de la matrice)\n",
    "- la taille d'un numpy array ne peux etre changé\n",
    "- il n'y a qu'un type de donnée dans un numpy array\n",
    "- ils prennent beaucoup moins de place "
   ]
  }
 ],
 "metadata": {
  "colab": {
   "name": "Semaine2-exercices.ipynb",
   "provenance": [],
   "version": "0.3.2"
  },
  "kernelspec": {
   "display_name": "Python 3",
   "language": "python",
   "name": "python3"
  },
  "language_info": {
   "codemirror_mode": {
    "name": "ipython",
    "version": 3
   },
   "file_extension": ".py",
   "mimetype": "text/x-python",
   "name": "python",
   "nbconvert_exporter": "python",
   "pygments_lexer": "ipython3",
   "version": "3.7.1"
  }
 },
 "nbformat": 4,
 "nbformat_minor": 1
}
